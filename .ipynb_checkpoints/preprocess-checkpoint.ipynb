{
 "cells": [
  {
   "cell_type": "code",
   "execution_count": 1,
   "metadata": {},
   "outputs": [
    {
     "ename": "ModuleNotFoundError",
     "evalue": "No module named 'seaborn'",
     "output_type": "error",
     "traceback": [
      "\u001b[1;31m---------------------------------------------------------------------------\u001b[0m",
      "\u001b[1;31mModuleNotFoundError\u001b[0m                       Traceback (most recent call last)",
      "\u001b[1;32m<ipython-input-1-8d342c7cca34>\u001b[0m in \u001b[0;36m<module>\u001b[1;34m()\u001b[0m\n\u001b[0;32m      3\u001b[0m \u001b[1;32mimport\u001b[0m \u001b[0mpandas\u001b[0m \u001b[1;32mas\u001b[0m \u001b[0mpd\u001b[0m\u001b[1;33m\u001b[0m\u001b[0m\n\u001b[0;32m      4\u001b[0m \u001b[1;32mimport\u001b[0m \u001b[0mrandom\u001b[0m\u001b[1;33m\u001b[0m\u001b[0m\n\u001b[1;32m----> 5\u001b[1;33m \u001b[1;32mimport\u001b[0m \u001b[0mseaborn\u001b[0m \u001b[1;32mas\u001b[0m \u001b[0msns\u001b[0m\u001b[1;33m\u001b[0m\u001b[0m\n\u001b[0m\u001b[0;32m      6\u001b[0m \u001b[1;32mimport\u001b[0m \u001b[0mmatplotlib\u001b[0m\u001b[1;33m.\u001b[0m\u001b[0mpylab\u001b[0m \u001b[1;32mas\u001b[0m \u001b[0mplt\u001b[0m\u001b[1;33m\u001b[0m\u001b[0m\n\u001b[0;32m      7\u001b[0m \u001b[1;32mimport\u001b[0m \u001b[0mgeohash\u001b[0m\u001b[1;33m\u001b[0m\u001b[0m\n",
      "\u001b[1;31mModuleNotFoundError\u001b[0m: No module named 'seaborn'"
     ]
    }
   ],
   "source": [
    "import os\n",
    "import numpy as np\n",
    "import pandas as pd\n",
    "import random\n",
    "import seaborn as sns\n",
    "import matplotlib.pylab as plt\n",
    "import geohash"
   ]
  },
  {
   "cell_type": "markdown",
   "metadata": {},
   "source": [
    "# Read shop data"
   ]
  },
  {
   "cell_type": "code",
   "execution_count": 2,
   "metadata": {},
   "outputs": [],
   "source": [
    "df = pd.read_csv('./data/shopdata.csv', sep = '\\t')"
   ]
  },
  {
   "cell_type": "code",
   "execution_count": 3,
   "metadata": {},
   "outputs": [
    {
     "data": {
      "text/plain": [
       "(11192, 5)"
      ]
     },
     "execution_count": 3,
     "metadata": {},
     "output_type": "execute_result"
    }
   ],
   "source": [
    "df.shape"
   ]
  },
  {
   "cell_type": "code",
   "execution_count": 4,
   "metadata": {},
   "outputs": [
    {
     "data": {
      "text/html": [
       "<div>\n",
       "<style scoped>\n",
       "    .dataframe tbody tr th:only-of-type {\n",
       "        vertical-align: middle;\n",
       "    }\n",
       "\n",
       "    .dataframe tbody tr th {\n",
       "        vertical-align: top;\n",
       "    }\n",
       "\n",
       "    .dataframe thead th {\n",
       "        text-align: right;\n",
       "    }\n",
       "</style>\n",
       "<table border=\"1\" class=\"dataframe\">\n",
       "  <thead>\n",
       "    <tr style=\"text-align: right;\">\n",
       "      <th></th>\n",
       "      <th>shopid</th>\n",
       "      <th>lon</th>\n",
       "      <th>lat</th>\n",
       "      <th>product_tags</th>\n",
       "      <th>label</th>\n",
       "    </tr>\n",
       "  </thead>\n",
       "  <tbody>\n",
       "    <tr>\n",
       "      <th>0</th>\n",
       "      <td>214067</td>\n",
       "      <td>120.121669</td>\n",
       "      <td>29.347862</td>\n",
       "      <td>女裤,女士拉绒保暖裤,袜,打底裤</td>\n",
       "      <td>130</td>\n",
       "    </tr>\n",
       "    <tr>\n",
       "      <th>1</th>\n",
       "      <td>501135</td>\n",
       "      <td>120.114877</td>\n",
       "      <td>29.342181</td>\n",
       "      <td>棉织带,榨汁机,手动榨汁器,气泵,咖啡,太空杯,橡皮泥,亚克力飞机,卧式千斤顶,混纺船袜,钥...</td>\n",
       "      <td>17</td>\n",
       "    </tr>\n",
       "    <tr>\n",
       "      <th>2</th>\n",
       "      <td>501762</td>\n",
       "      <td>120.121039</td>\n",
       "      <td>29.346351</td>\n",
       "      <td>袜</td>\n",
       "      <td>130</td>\n",
       "    </tr>\n",
       "    <tr>\n",
       "      <th>3</th>\n",
       "      <td>501763</td>\n",
       "      <td>120.121102</td>\n",
       "      <td>29.346348</td>\n",
       "      <td>男袜,男中筒袜,袜</td>\n",
       "      <td>130</td>\n",
       "    </tr>\n",
       "    <tr>\n",
       "      <th>4</th>\n",
       "      <td>501765</td>\n",
       "      <td>120.121038</td>\n",
       "      <td>29.346324</td>\n",
       "      <td>抹胸,吊带背心,裤袜,连身衣,男士塑身连体衣</td>\n",
       "      <td>130</td>\n",
       "    </tr>\n",
       "  </tbody>\n",
       "</table>\n",
       "</div>"
      ],
      "text/plain": [
       "   shopid         lon        lat  \\\n",
       "0  214067  120.121669  29.347862   \n",
       "1  501135  120.114877  29.342181   \n",
       "2  501762  120.121039  29.346351   \n",
       "3  501763  120.121102  29.346348   \n",
       "4  501765  120.121038  29.346324   \n",
       "\n",
       "                                        product_tags  label  \n",
       "0                                   女裤,女士拉绒保暖裤,袜,打底裤    130  \n",
       "1  棉织带,榨汁机,手动榨汁器,气泵,咖啡,太空杯,橡皮泥,亚克力飞机,卧式千斤顶,混纺船袜,钥...     17  \n",
       "2                                                  袜    130  \n",
       "3                                          男袜,男中筒袜,袜    130  \n",
       "4                             抹胸,吊带背心,裤袜,连身衣,男士塑身连体衣    130  "
      ]
     },
     "execution_count": 4,
     "metadata": {},
     "output_type": "execute_result"
    }
   ],
   "source": [
    "df.head()"
   ]
  },
  {
   "cell_type": "markdown",
   "metadata": {},
   "source": [
    "# calculate geohash code"
   ]
  },
  {
   "cell_type": "code",
   "execution_count": 5,
   "metadata": {},
   "outputs": [],
   "source": [
    "df['geohash_5'] = df.apply(lambda x: geohash.encode(x['lon'], x['lat'], precision=5), axis=1)\n",
    "df['geohash_6'] = df.apply(lambda x: geohash.encode(x['lon'], x['lat'], precision=6), axis=1)\n",
    "df['geohash_7'] = df.apply(lambda x: geohash.encode(x['lon'], x['lat'], precision=7), axis=1)\n",
    "df['geohash_8'] = df.apply(lambda x: geohash.encode(x['lon'], x['lat'], precision=8), axis=1)\n",
    "df['geohash_9'] = df.apply(lambda x: geohash.encode(x['lon'], x['lat'], precision=9), axis=1)"
   ]
  },
  {
   "cell_type": "code",
   "execution_count": 38,
   "metadata": {},
   "outputs": [],
   "source": [
    "df.to_csv('./data/shopdata_geohash.csv', sep = '\\t', index=False)"
   ]
  },
  {
   "cell_type": "markdown",
   "metadata": {},
   "source": [
    "# Data Analysis"
   ]
  },
  {
   "cell_type": "markdown",
   "metadata": {},
   "source": [
    "## label_counts"
   ]
  },
  {
   "cell_type": "code",
   "execution_count": 6,
   "metadata": {},
   "outputs": [
    {
     "data": {
      "text/plain": [
       "<matplotlib.axes._subplots.AxesSubplot at 0x7f35852db198>"
      ]
     },
     "execution_count": 6,
     "metadata": {},
     "output_type": "execute_result"
    },
    {
     "data": {
      "image/png": "[encoded data removed]",
      "text/plain": [
       "<Figure size 432x288 with 1 Axes>"
      ]
     },
     "metadata": {
      "needs_background": "light"
     },
     "output_type": "display_data"
    }
   ],
   "source": [
    "sns.countplot(df.label)"
   ]
  },
  {
   "cell_type": "markdown",
   "metadata": {},
   "source": [
    "## size of product list context"
   ]
  },
  {
   "cell_type": "code",
   "execution_count": 7,
   "metadata": {},
   "outputs": [],
   "source": [
    "def data_count(df):\n",
    "    corpus = []\n",
    "    dict = {}\n",
    "    for index,row in df.iterrows():\n",
    "        shopid = str(row.shopid)\n",
    "        n = len(row.product_tags.split(','))\n",
    "        dict[n] = dict.get(n, 0) + 1\n",
    "    return dict"
   ]
  },
  {
   "cell_type": "code",
   "execution_count": 8,
   "metadata": {},
   "outputs": [
    {
     "data": {
      "image/png": "[encoded data removed]",
      "text/plain": [
       "<Figure size 432x288 with 1 Axes>"
      ]
     },
     "metadata": {
      "needs_background": "light"
     },
     "output_type": "display_data"
    }
   ],
   "source": [
    "dict = data_count(df)\n",
    "lists = sorted(dict.items())\n",
    "x, y = zip(*lists[:70])\n",
    "plt.bar(x, y)\n",
    "plt.xlabel('Counts')\n",
    "plt.ylabel('Frequency')\n",
    "plt.show()"
   ]
  },
  {
   "cell_type": "code",
   "execution_count": 9,
   "metadata": {},
   "outputs": [],
   "source": [
    "df['tag_len'] = pd.Series([len(i) for i in df.product_tags.str.split(',')])"
   ]
  },
  {
   "cell_type": "code",
   "execution_count": 10,
   "metadata": {},
   "outputs": [],
   "source": [
    "df = df[df.tag_len <= 50]"
   ]
  },
  {
   "cell_type": "markdown",
   "metadata": {},
   "source": [
    "## Number of codes of different length"
   ]
  },
  {
   "cell_type": "code",
   "execution_count": 12,
   "metadata": {},
   "outputs": [
    {
     "data": {
      "text/plain": [
       "Text(0.5, 0, 'Counts')"
      ]
     },
     "execution_count": 12,
     "metadata": {},
     "output_type": "execute_result"
    },
    {
     "data": {
      "image/png": "[encoded data removed]",
      "text/plain": [
       "<Figure size 432x288 with 1 Axes>"
      ]
     },
     "metadata": {
      "needs_background": "light"
     },
     "output_type": "display_data"
    }
   ],
   "source": [
    "objects = ('geohash_5', 'geohash_6', 'geohash_7', 'geohash_8', 'geohash_9')\n",
    "y_pos = np.arange(len(objects))\n",
    "performance = [len(df.groupby(by=[col]).size()) for col in ['geohash_' + str(i) for i in range(5,10)]] \n",
    "plt.barh(y_pos, performance, align='center', alpha=0.5)\n",
    "plt.yticks(y_pos, objects)\n",
    "plt.xlabel('Counts')"
   ]
  },
  {
   "cell_type": "markdown",
   "metadata": {},
   "source": [
    "# Data Augmentation"
   ]
  },
  {
   "cell_type": "code",
   "execution_count": 13,
   "metadata": {},
   "outputs": [
    {
     "data": {
      "text/plain": [
       "(153300, 11)"
      ]
     },
     "execution_count": 13,
     "metadata": {},
     "output_type": "execute_result"
    }
   ],
   "source": [
    "frames = [df.copy() for i in range(20)]\n",
    "df_expand = pd.concat(frames)\n",
    "df_expand.shape"
   ]
  },
  {
   "cell_type": "code",
   "execution_count": 14,
   "metadata": {},
   "outputs": [
    {
     "data": {
      "text/html": [
       "<div>\n",
       "<style scoped>\n",
       "    .dataframe tbody tr th:only-of-type {\n",
       "        vertical-align: middle;\n",
       "    }\n",
       "\n",
       "    .dataframe tbody tr th {\n",
       "        vertical-align: top;\n",
       "    }\n",
       "\n",
       "    .dataframe thead th {\n",
       "        text-align: right;\n",
       "    }\n",
       "</style>\n",
       "<table border=\"1\" class=\"dataframe\">\n",
       "  <thead>\n",
       "    <tr style=\"text-align: right;\">\n",
       "      <th></th>\n",
       "      <th>shopid</th>\n",
       "      <th>lon</th>\n",
       "      <th>lat</th>\n",
       "      <th>product_tags</th>\n",
       "      <th>label</th>\n",
       "      <th>geohash_5</th>\n",
       "      <th>geohash_6</th>\n",
       "      <th>geohash_7</th>\n",
       "      <th>geohash_8</th>\n",
       "      <th>geohash_9</th>\n",
       "      <th>tag_len</th>\n",
       "    </tr>\n",
       "  </thead>\n",
       "  <tbody>\n",
       "    <tr>\n",
       "      <th>0</th>\n",
       "      <td>214067</td>\n",
       "      <td>120.121669</td>\n",
       "      <td>29.347862</td>\n",
       "      <td>女裤,女士拉绒保暖裤,袜,打底裤</td>\n",
       "      <td>130</td>\n",
       "      <td>uxuzg</td>\n",
       "      <td>uxuzgz</td>\n",
       "      <td>uxuzgzf</td>\n",
       "      <td>uxuzgzfr</td>\n",
       "      <td>uxuzgzfry</td>\n",
       "      <td>4</td>\n",
       "    </tr>\n",
       "    <tr>\n",
       "      <th>2</th>\n",
       "      <td>501762</td>\n",
       "      <td>120.121039</td>\n",
       "      <td>29.346351</td>\n",
       "      <td>袜</td>\n",
       "      <td>130</td>\n",
       "      <td>uxuzg</td>\n",
       "      <td>uxuzgz</td>\n",
       "      <td>uxuzgzc</td>\n",
       "      <td>uxuzgzcr</td>\n",
       "      <td>uxuzgzcrg</td>\n",
       "      <td>1</td>\n",
       "    </tr>\n",
       "    <tr>\n",
       "      <th>3</th>\n",
       "      <td>501763</td>\n",
       "      <td>120.121102</td>\n",
       "      <td>29.346348</td>\n",
       "      <td>男袜,男中筒袜,袜</td>\n",
       "      <td>130</td>\n",
       "      <td>uxuzg</td>\n",
       "      <td>uxuzgz</td>\n",
       "      <td>uxuzgzc</td>\n",
       "      <td>uxuzgzcr</td>\n",
       "      <td>uxuzgzcrg</td>\n",
       "      <td>3</td>\n",
       "    </tr>\n",
       "    <tr>\n",
       "      <th>4</th>\n",
       "      <td>501765</td>\n",
       "      <td>120.121038</td>\n",
       "      <td>29.346324</td>\n",
       "      <td>抹胸,吊带背心,裤袜,连身衣,男士塑身连体衣</td>\n",
       "      <td>130</td>\n",
       "      <td>uxuzg</td>\n",
       "      <td>uxuzgz</td>\n",
       "      <td>uxuzgzc</td>\n",
       "      <td>uxuzgzcr</td>\n",
       "      <td>uxuzgzcrf</td>\n",
       "      <td>5</td>\n",
       "    </tr>\n",
       "    <tr>\n",
       "      <th>5</th>\n",
       "      <td>501769</td>\n",
       "      <td>120.113270</td>\n",
       "      <td>29.341752</td>\n",
       "      <td>化妆包,时装包,天然皮包,手包,包</td>\n",
       "      <td>15</td>\n",
       "      <td>uxuzg</td>\n",
       "      <td>uxuzgx</td>\n",
       "      <td>uxuzgxy</td>\n",
       "      <td>uxuzgxyp</td>\n",
       "      <td>uxuzgxypb</td>\n",
       "      <td>5</td>\n",
       "    </tr>\n",
       "  </tbody>\n",
       "</table>\n",
       "</div>"
      ],
      "text/plain": [
       "   shopid         lon        lat            product_tags  label geohash_5  \\\n",
       "0  214067  120.121669  29.347862        女裤,女士拉绒保暖裤,袜,打底裤    130     uxuzg   \n",
       "2  501762  120.121039  29.346351                       袜    130     uxuzg   \n",
       "3  501763  120.121102  29.346348               男袜,男中筒袜,袜    130     uxuzg   \n",
       "4  501765  120.121038  29.346324  抹胸,吊带背心,裤袜,连身衣,男士塑身连体衣    130     uxuzg   \n",
       "5  501769  120.113270  29.341752       化妆包,时装包,天然皮包,手包,包     15     uxuzg   \n",
       "\n",
       "  geohash_6 geohash_7 geohash_8  geohash_9  tag_len  \n",
       "0    uxuzgz   uxuzgzf  uxuzgzfr  uxuzgzfry        4  \n",
       "2    uxuzgz   uxuzgzc  uxuzgzcr  uxuzgzcrg        1  \n",
       "3    uxuzgz   uxuzgzc  uxuzgzcr  uxuzgzcrg        3  \n",
       "4    uxuzgz   uxuzgzc  uxuzgzcr  uxuzgzcrf        5  \n",
       "5    uxuzgx   uxuzgxy  uxuzgxyp  uxuzgxypb        5  "
      ]
     },
     "execution_count": 14,
     "metadata": {},
     "output_type": "execute_result"
    }
   ],
   "source": [
    "df_expand.head()"
   ]
  },
  {
   "cell_type": "code",
   "execution_count": 23,
   "metadata": {},
   "outputs": [
    {
     "name": "stdout",
     "output_type": "stream",
     "text": [
      " 150000"
     ]
    }
   ],
   "source": [
    "n = 0\n",
    "for index, row in df_expand.iterrows():\n",
    "    n += 1\n",
    "    if row.tag_len > 30:\n",
    "        sample_list = row.product_tags.split(',')\n",
    "        df_expand.loc[index,'product_tags'] = ','.join(random.sample(sample_list, 30))\n",
    "        df_expand.loc[index,'tag_len'] = 30\n",
    "    if n % 10000 == 0:\n",
    "        print('\\r %d' % n, end='')"
   ]
  },
  {
   "cell_type": "code",
   "execution_count": 24,
   "metadata": {},
   "outputs": [
    {
     "data": {
      "text/plain": [
       "<matplotlib.axes._subplots.AxesSubplot at 0x7f35806076d8>"
      ]
     },
     "execution_count": 24,
     "metadata": {},
     "output_type": "execute_result"
    },
    {
     "data": {
      "image/png": "[encoded data removed]",
      "text/plain": [
       "<Figure size 432x288 with 1 Axes>"
      ]
     },
     "metadata": {
      "needs_background": "light"
     },
     "output_type": "display_data"
    }
   ],
   "source": [
    "sns.countplot(df_expand.tag_len)"
   ]
  },
  {
   "cell_type": "markdown",
   "metadata": {},
   "source": [
    "# Generator training corpus"
   ]
  },
  {
   "cell_type": "code",
   "execution_count": 44,
   "metadata": {},
   "outputs": [],
   "source": [
    "import re\n",
    "def get_corpus(df, type):\n",
    "    corpus = []\n",
    "    for index,row in df.iterrows():\n",
    "        shopid = str(row['shopid'])\n",
    "        for w in row.product_tags.split(','):\n",
    "            if w == '':\n",
    "                continue\n",
    "            corpus.append([shopid, w])\n",
    "        if type != 'geohash_0':\n",
    "            corpus.append([shopid, row[type]])\n",
    "    df_corpus = pd.DataFrame(corpus, columns = ['target', 'context'])\n",
    "    path_corpus = \"./data/\" + type + \"/\" + type + \".txt\"\n",
    "    print(df_corpus.shape)\n",
    "    df_corpus.to_csv(path_corpus, sep = ' ', index = False, encoding = 'utf-8', header=None)\n",
    "    return df_corpus"
   ]
  },
  {
   "cell_type": "code",
   "execution_count": 45,
   "metadata": {},
   "outputs": [
    {
     "data": {
      "text/plain": [
       "['geohash_0', 'geohash_5', 'geohash_6', 'geohash_7', 'geohash_8', 'geohash_9']"
      ]
     },
     "execution_count": 45,
     "metadata": {},
     "output_type": "execute_result"
    }
   ],
   "source": [
    "list = ['geohash_0']\n",
    "list.extend(['geohash_'+str(i) for i in range(5,10)])\n",
    "list"
   ]
  },
  {
   "cell_type": "code",
   "execution_count": 47,
   "metadata": {},
   "outputs": [
    {
     "name": "stdout",
     "output_type": "stream",
     "text": [
      "(984200, 2)\n",
      "(1137500, 2)\n",
      "(1137500, 2)\n",
      "(1137500, 2)\n",
      "(1137500, 2)\n",
      "(1137500, 2)\n"
     ]
    }
   ],
   "source": [
    "for type in list:\n",
    "    get_corpus(df_expand, type)"
   ]
  }
 ],
 "metadata": {
  "kernelspec": {
   "display_name": "Python 3",
   "language": "python",
   "name": "python3"
  },
  "language_info": {
   "codemirror_mode": {
    "name": "ipython",
    "version": 3
   },
   "file_extension": ".py",
   "mimetype": "text/x-python",
   "name": "python",
   "nbconvert_exporter": "python",
   "pygments_lexer": "ipython3",
   "version": "3.6.4"
  },
  "latex_envs": {
   "LaTeX_envs_menu_present": true,
   "autoclose": false,
   "autocomplete": true,
   "bibliofile": "biblio.bib",
   "cite_by": "apalike",
   "current_citInitial": 1,
   "eqLabelWithNumbers": true,
   "eqNumInitial": 1,
   "hotkeys": {
    "equation": "Ctrl-E",
    "itemize": "Ctrl-I"
   },
   "labels_anchors": false,
   "latex_user_defs": false,
   "report_style_numbering": false,
   "user_envs_cfg": false
  },
  "toc": {
   "base_numbering": 1,
   "nav_menu": {},
   "number_sections": true,
   "sideBar": true,
   "skip_h1_title": false,
   "title_cell": "Table of Contents",
   "title_sidebar": "Contents",
   "toc_cell": false,
   "toc_position": {},
   "toc_section_display": true,
   "toc_window_display": false
  }
 },
 "nbformat": 4,
 "nbformat_minor": 1
}
