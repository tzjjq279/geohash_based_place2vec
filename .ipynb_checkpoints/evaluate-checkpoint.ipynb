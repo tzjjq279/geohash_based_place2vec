{
 "cells": [
  {
   "cell_type": "code",
   "execution_count": 2,
   "metadata": {},
   "outputs": [],
   "source": [
    "import os\n",
    "import numpy as np\n",
    "import pandas as pd\n",
    "import sys\n",
    "import heapq"
   ]
  },
  {
   "cell_type": "code",
   "execution_count": 3,
   "metadata": {},
   "outputs": [],
   "source": [
    "def ugly_normalize(vecs):\n",
    "   normalizers = np.sqrt((vecs * vecs).sum(axis=1))\n",
    "   normalizers[normalizers==0]=1\n",
    "   return (vecs.T / normalizers).T\n",
    "\n",
    "class Embeddings:\n",
    "    def __init__(self, vecsfile, vocabfile=None, normalize=True):\n",
    "        if vocabfile is None: vocabfile = vecsfile.replace(\"npy\",\"vocab\")\n",
    "        self._vecs = np.load(vecsfile)\n",
    "        self._vocab = open(vocabfile).read().split()\n",
    "        if normalize:\n",
    "           self._vecs = ugly_normalize(self._vecs)\n",
    "        self._w2v = {w:i for i,w in enumerate(self._vocab)}\n",
    "        self._df_shoptag = pd.read_csv('./data/shopdata_geohash.csv', sep = '\\t')\n",
    "\n",
    "    @classmethod\n",
    "    def load(cls, vecsfile, vocabfile=None):\n",
    "        return Embeddings(vecsfile, vocabfile)\n",
    "\n",
    "    def word2vec(self, w):\n",
    "        return self._vecs[self._w2v[w]]\n",
    "\n",
    "    def similar_to_vec(self, v, N=10):\n",
    "        sims = self._vecs.dot(v)\n",
    "        sims = heapq.nlargest(N, zip(sims,self._vocab,self._vecs))\n",
    "        return sims\n",
    "\n",
    "    def most_similar(self, word, N=10):\n",
    "        w = self._vocab.index(word)\n",
    "        sims = self._vecs.dot(self._vecs[w])\n",
    "        sims = heapq.nlargest(N, zip(sims,self._vocab))\n",
    "        df_sims = pd.DataFrame([[i[0], int(i[1])] for i in sims], columns = [\"sims\", \"shopid\"])\n",
    "        result = pd.merge(df_sims, self._df_shoptag, on=[\"shopid\"], how='left')\n",
    "        return result"
   ]
  },
  {
   "cell_type": "code",
   "execution_count": 4,
   "metadata": {},
   "outputs": [],
   "source": [
    "vecs_path = ['./data/geohash_0//vecs.npy']\n",
    "vecs_path.extend(['./data/geohash_'+str(i) + '/vecs.npy' for i in range(5,10)])\n",
    "eb_list = [Embeddings.load(path) for path in vecs_path]"
   ]
  },
  {
   "cell_type": "code",
   "execution_count": 5,
   "metadata": {},
   "outputs": [],
   "source": [
    "def evaluate(e, code, N=10):\n",
    "    return e.most_similar(code, N+1)[['sims', 'shopid', 'product_tags', 'label', 'geohash_5', 'geohash_6', \n",
    "                                      'geohash_7', 'geohash_8', 'geohash_9']]\n",
    "\n",
    "def precision(e, df, K = 10):\n",
    "    total = len(df) * K\n",
    "    hit = 0\n",
    "    n = 0\n",
    "    for id in df['shopid']:\n",
    "        df_eva = evaluate(e, str(id), K)[['shopid', 'label']]\n",
    "        acc = df_eva[(df_eva.shopid == id)]['label'][0]\n",
    "        df_group = df_eva.groupby(['label']).size().reset_index(name='counts')\n",
    "        hit += (df_group[df_group['label'] == acc].iloc[0,1] - 1)\n",
    "        n += 1\n",
    "        if n % 100 == 0:\n",
    "            print(\"\\r calculated: %d \" % n, end=\"\")\n",
    "    print('\\n hit = %d' % hit)\n",
    "    print(' total = %d' % total)\n",
    "    print(' precision = %.2f' % (hit/total*100))"
   ]
  },
  {
   "cell_type": "code",
   "execution_count": 6,
   "metadata": {},
   "outputs": [],
   "source": [
    "df_wv = pd.read_csv('./data/geohash_0/wv', sep = ' ', header = 0, names = ['shopid', 'count'])"
   ]
  },
  {
   "cell_type": "code",
   "execution_count": null,
   "metadata": {},
   "outputs": [
    {
     "name": "stdout",
     "output_type": "stream",
     "text": [
      "./data/geohash_0//vecs.npy 10\n",
      " calculated: 400 "
     ]
    }
   ],
   "source": [
    "for i in range(6):\n",
    "    print(vecs_path[i], 10)\n",
    "    precision(eb_list[i], df_wv, 10)\n",
    "    print('------------------------')"
   ]
  },
  {
   "cell_type": "code",
   "execution_count": null,
   "metadata": {},
   "outputs": [],
   "source": [
    "for i in range(6):\n",
    "    print(vecs_path[i], 20)\n",
    "    precision(eb_list[i], df_wv, 20)\n",
    "    print('------------------------')"
   ]
  },
  {
   "cell_type": "code",
   "execution_count": null,
   "metadata": {},
   "outputs": [],
   "source": [
    "for i in range(6):\n",
    "    print(vecs_path[i])\n",
    "    precision(eb_list[i], df_wv, 50)\n",
    "    print('------------------------')"
   ]
  },
  {
   "cell_type": "code",
   "execution_count": null,
   "metadata": {},
   "outputs": [],
   "source": []
  }
 ],
 "metadata": {
  "kernelspec": {
   "display_name": "Python 3",
   "language": "python",
   "name": "python3"
  },
  "language_info": {
   "codemirror_mode": {
    "name": "ipython",
    "version": 3
   },
   "file_extension": ".py",
   "mimetype": "text/x-python",
   "name": "python",
   "nbconvert_exporter": "python",
   "pygments_lexer": "ipython3",
   "version": "3.6.4"
  },
  "latex_envs": {
   "LaTeX_envs_menu_present": true,
   "autoclose": false,
   "autocomplete": true,
   "bibliofile": "biblio.bib",
   "cite_by": "apalike",
   "current_citInitial": 1,
   "eqLabelWithNumbers": true,
   "eqNumInitial": 1,
   "hotkeys": {
    "equation": "Ctrl-E",
    "itemize": "Ctrl-I"
   },
   "labels_anchors": false,
   "latex_user_defs": false,
   "report_style_numbering": false,
   "user_envs_cfg": false
  },
  "toc": {
   "base_numbering": 1,
   "nav_menu": {},
   "number_sections": true,
   "sideBar": true,
   "skip_h1_title": false,
   "title_cell": "Table of Contents",
   "title_sidebar": "Contents",
   "toc_cell": false,
   "toc_position": {},
   "toc_section_display": true,
   "toc_window_display": false
  }
 },
 "nbformat": 4,
 "nbformat_minor": 1
}
